{
 "cells": [
  {
   "cell_type": "markdown",
   "metadata": {
    "deletable": false,
    "editable": false,
    "nbgrader": {
     "checksum": "a72213caf229980373130c6f1679227c",
     "grade": false,
     "grade_id": "cell-018440ed2f1b6a62",
     "locked": true,
     "schema_version": 1,
     "solution": false
    }
   },
   "source": [
    "# Proyecto 2\n",
    "Todas las preguntas tienen el mismo peso en esta tarea. Esta tarea requiere más aprendizaje individual. Te invito a consultar la [documentación de pandas](https://pandas.pydata.org/pandas-docs/stable/) para encontrar funciones o métodos que quizás no has usado aún, o realices preguntas en [Stack Overflow](https://stackoverflow.com/) y etiquételos como relacionados con pandas y python. Todas las preguntas tienen la misma cantidad de puntos, excepto la pregunta 1, que vale el 20 % de la calificación de la tarea.\n",
    "\n",
    "**Nota**: A partir de la pregunta 2 se basan en la respuesta de la pregunta 1."
   ]
  },
  {
   "cell_type": "code",
   "execution_count": 1,
   "metadata": {
    "ExecuteTime": {
     "end_time": "2023-05-20T12:26:56.955975764Z",
     "start_time": "2023-05-20T12:26:56.237425858Z"
    }
   },
   "outputs": [],
   "source": [
    "import pandas as pd\n",
    "import numpy as np\n",
    "\n",
    "# Filter all warnings. If you would like to see the warnings, please comment the two lines below.\n",
    "import warnings\n",
    "\n",
    "warnings.filterwarnings('ignore')"
   ]
  },
  {
   "cell_type": "markdown",
   "metadata": {
    "deletable": false,
    "editable": false,
    "nbgrader": {
     "checksum": "68063b8b0783f3d8122b516e0cce5f45",
     "grade": false,
     "grade_id": "cell-7e5190c7ff1f2e42",
     "locked": true,
     "schema_version": 1,
     "solution": false
    }
   },
   "source": [
    "### Pregunta 1\n",
    "Cargue los datos de energía del archivo `assets/Energy Indicators.xls`, que es una lista de indicadores de [suministro de energía y producción de electricidad renovable](assets/Energy%20Indicators.xls) de las [Naciones Unidas](https://unstats.un.org/unsd/environment/excel_file_tables/2013/Energy%20Indicators.xls) para el año 2013, y asigna esos datos a un DataFrame con el nombre de variable **energy**.\n",
    "\n",
    "Ten en cuenta que este es un archivo de Excel y no un archivo de valores separados por comas (.csv). Además, asegúrate de excluir la información del pie de página y del encabezado del archivo de datos. Las primeras dos columnas son innecesarias, por lo que debes deshacerse de ellas. También debes cambiar las etiquetas de las columnas para que las columnas sean las siguientes:\n",
    "\n",
    "`['Country', 'Energy Supply', 'Energy Supply per Capita', '% Renewable']`\n",
    "\n",
    "Convierta `Energy Supply` a gigajulios (**Nota: hay 1,000,000 giga julios en un petajulio**). Para todos los países que carezcan de datos (por ejemplo, datos con \"...\"), asegúrese de que estos reflejen valores `np.NaN`.\n",
    "\n",
    "Cambia el nombre de los siguientes países según este listado (nos servirá para preguntas posteriores):\n",
    "\n",
    "```\n",
    "\"Republic of Korea\": \"South Korea\",\n",
    "\"United States of America\": \"United States\",\n",
    "\"United Kingdom of Great Britain and Northern Ireland\": \"United Kingdom\",\n",
    "\"China, Hong Kong Special Administrative Region\": \"Hong Kong\"\n",
    "```\n",
    "\n",
    "También hay varios países que contienen paréntesis en su nombre. Asegúrete de eliminarlos, por ejemplo: `'Bolivia (Estado Plurinacional de)'` debería ser `'Bolivia'`.\n",
    "\n",
    "A continuación, carga los datos del GDP (PBI) del archivo `assets/world_bank.csv`. Este es un archivo .csv del [Banco Mundial](https://data.worldbank.org/indicator/NY.GDP.MKTP.CD) que contiene el PBI de los países desde 1960 hasta 2015. Llame a este DataFrame **gdp**.\n",
    "\n",
    "Asegúrete de omitir el encabezado y cambia el nombre de la siguiente lista de países:\n",
    "\n",
    "```\n",
    "\"Korea, Rep.\": \"South Korea\",\n",
    "\"Iran, Islamic Rep.\": \"Iran\",\n",
    "\"Hong Kong SAR, China\": \"Hong Kong\"\n",
    "```\n",
    "\n",
    "Finalmente, lee el [Sciamgo Journal and Country Rank data for Energy Engineering and Power Technology](https://www.scimagojr.com/countryrank.php?category=2102) desde el archivo `assets/scimagojr-3.xlsx`, que clasifica a los paises según sus contribuciones al área mencionada. Denomina este DataFrame con el nombre **sciamgo**.\n",
    "\n",
    "Unifica los tres datasets: GDP, Energy, y ScimEn en un nuevo dataset (utilizando la intersección de los nombres de países). Utiliza solo los años del 2006 al 2015 de datos de GDP (PBI) y solo los 15 principales países según el ranking de Scimagojr 'Rank' (del 1 al 15).\n",
    "\n",
    "El índice de este DataFrame debe ser el nombre de los países, y las columnas deben ser ['Rank', 'Documents', 'Citable documents', 'Citations', 'Self-citations', 'Citations per document', 'H index', 'Energy Supply', 'Energy Supply per Capita', '% Renewable', '2006', '2007', '2008', '2009', '2010', '2011', '2012', '2013', '2014', '2015']\n",
    "\n",
    "*Esto debería devolver un DataFrame con 20 columnas y 15 entradas, y las filas del DataFrame deberían estar ordenadas por \"Rank\".*\n"
   ]
  },
  {
   "cell_type": "code",
   "execution_count": null,
   "metadata": {
    "deletable": false,
    "editable": false,
    "nbgrader": {
     "checksum": "e241830bcf3f63326b4c9cdf50be8f86",
     "grade": true,
     "grade_id": "cell-74b5f0b971379f64",
     "locked": true,
     "points": 10,
     "schema_version": 1,
     "solution": false
    }
   },
   "outputs": [],
   "source": [
    "# Escribe aquí tu código\n",
    "\n",
    "# Denomina df al DataFrame que obtengas aquí. Es para que luego puedas ejecutar las dos visualizaciones plot_9() y plot_optional()\n",
    "\n",
    "import pandas as pd\n",
    "import numpy as np\n",
    " # Cargar los datos de Energy Indicators.xls\n",
    "energy = pd.read_excel('assets/Energy Indicators.xls', skiprows=17, skipfooter=38)\n",
    "energy = energy.iloc[:, 2:] #Sirve para no tomar en cuenta las 2 primeras columnas\n",
    "energy.columns = ['Country', 'Energy Supply', 'Energy Supply per Capita', '% Renewable']\n",
    "energy['Energy Supply'] = energy['Energy Supply'].apply(lambda x: x*1000000 if x != '...' else np.nan)\n",
    "energy['Energy Supply per Capita'] = energy['Energy Supply per Capita'].apply(lambda x: x if x != '...' else np.nan)\n",
    "energy['Country'] = energy['Country'].str.replace(r\"\\s*\\(.*\\)\", \"\", regex=True)  # Eliminar paréntesis y su contenido\n",
    "energy['Country'] = energy['Country'].str.replace(r\"\\d+$\", \"\", regex=True)\n",
    "energy['Country'] = energy['Country'].str.strip()\n",
    "energy['Country'].replace({\n",
    "    #\"China2\": \"China\",\n",
    "    \"Republic of Korea\": \"South Korea\",\n",
    "    \"United States of America\": \"United States\",\n",
    "    #\"Japan10\": \"Japan\",\n",
    "    #\"France6\" : \"France\",\n",
    "    #\"Italy9\": \"Italy\",\n",
    "    #\"Spain16\": \"Spain\",\n",
    "    #\"Australia1\" : \"Australia\",\n",
    "    \"United Kingdom of Great Britain and Northern Ireland\": \"United Kingdom\",\n",
    "    \"China, Hong Kong Special Administrative Region\": \"Hong Kong\"\n",
    "}, inplace=True)\n",
    "\n",
    "\n",
    "# Cargar los datos del GDP (PBI) del archivo world_bank.csv\n",
    "gdp = pd.read_csv('assets/world_bank.csv', skiprows=4)\n",
    "gdp['Country Name'].replace({\n",
    "    \"Korea, Rep.\": \"South Korea\",\n",
    "    \"Iran, Islamic Rep.\": \"Iran\",\n",
    "    \"Hong Kong SAR, China\": \"Hong Kong\"\n",
    "}, inplace=True)\n",
    "\n",
    "# Cargar los datos del Scimago Journal and Country Rank\n",
    "scimgo = pd.read_excel('assets/scimagojr-3.xlsx')\n",
    "\n",
    "\n",
    "    # Seleccionar solo los 15 principales países según el ranking de Scimgo\n",
    "scimgo = scimgo[scimgo['Rank'] <= 15]\n",
    "\n",
    "def load_data():\n",
    "\n",
    "    # Unificar los tres DataFrames\n",
    "    combined = pd.merge(scimgo, energy, how='inner', left_on='Country', right_on='Country')\n",
    "\n",
    "    combined = pd.merge(combined, gdp, how='inner', left_on='Country', right_on='Country Name')\n",
    "\n",
    "    # Seleccionar las columnas necesarias y establecer el índice\n",
    "    columns = ['Country', 'Rank', 'Documents', 'Citable documents', 'Citations', 'Self-citations',\n",
    "            'Citations per document', 'H index', 'Energy Supply', 'Energy Supply per Capita',\n",
    "            '% Renewable', '2006', '2007', '2008', '2009', '2010', '2011', '2012', '2013', '2014', '2015']\n",
    "    combined = combined[columns]\n",
    "    combined.set_index('Country', inplace=True)\n",
    "\n",
    "    # Mostrar el DataFrame resultante\n",
    "    return(combined)\n",
    "\n",
    "load_data()"
   ]
  },
  {
   "cell_type": "markdown",
   "metadata": {
    "deletable": false,
    "editable": false,
    "nbgrader": {
     "checksum": "596280cd22ed98c5540580c62954ec2f",
     "grade": false,
     "grade_id": "cell-babe0ff2a1fc6b17",
     "locked": true,
     "schema_version": 1,
     "solution": false
    }
   },
   "source": [
    "### Pregunta 2\n",
    "La pregunta anterior unió tres datasets y luego los redujo a las 15 entradas principales. Pero antes de reducirlos a los 15 elementos principales, ¿cuántas entradas se perdieron?\n",
    "\n",
    "*Esta función debería devolver un solo número.*"
   ]
  },
  {
   "cell_type": "code",
   "execution_count": 1,
   "metadata": {
    "ExecuteTime": {
     "end_time": "2023-05-20T13:58:55.775721224Z",
     "start_time": "2023-05-20T13:58:55.774525828Z"
    },
    "deletable": false,
    "editable": false,
    "nbgrader": {
     "checksum": "c9a34da81c80126fd23ae2eac33f98f8",
     "grade": false,
     "grade_id": "cell-96f84e7b693bef63",
     "locked": true,
     "schema_version": 1,
     "solution": false
    }
   },
   "outputs": [
    {
     "data": {
      "text/html": [
       "<svg width=\"800\" height=\"300\">\n",
       "  <circle cx=\"150\" cy=\"180\" r=\"80\" fill-opacity=\"0.2\" stroke=\"black\" stroke-width=\"2\" fill=\"blue\" />\n",
       "  <circle cx=\"200\" cy=\"100\" r=\"80\" fill-opacity=\"0.2\" stroke=\"black\" stroke-width=\"2\" fill=\"red\" />\n",
       "  <circle cx=\"100\" cy=\"100\" r=\"80\" fill-opacity=\"0.2\" stroke=\"black\" stroke-width=\"2\" fill=\"green\" />\n",
       "  <line x1=\"150\" y1=\"125\" x2=\"300\" y2=\"150\" stroke=\"black\" stroke-width=\"2\" fill=\"black\" stroke-dasharray=\"5,3\"/>\n",
       "  <text x=\"300\" y=\"165\" font-family=\"Verdana\" font-size=\"35\">Todo menos esto!</text>\n",
       "</svg>\n"
      ],
      "text/plain": [
       "<IPython.core.display.HTML object>"
      ]
     },
     "metadata": {},
     "output_type": "display_data"
    }
   ],
   "source": [
    "%%HTML\n",
    "<svg width=\"800\" height=\"300\">\n",
    "  <circle cx=\"150\" cy=\"180\" r=\"80\" fill-opacity=\"0.2\" stroke=\"black\" stroke-width=\"2\" fill=\"blue\" />\n",
    "  <circle cx=\"200\" cy=\"100\" r=\"80\" fill-opacity=\"0.2\" stroke=\"black\" stroke-width=\"2\" fill=\"red\" />\n",
    "  <circle cx=\"100\" cy=\"100\" r=\"80\" fill-opacity=\"0.2\" stroke=\"black\" stroke-width=\"2\" fill=\"green\" />\n",
    "  <line x1=\"150\" y1=\"125\" x2=\"300\" y2=\"150\" stroke=\"black\" stroke-width=\"2\" fill=\"black\" stroke-dasharray=\"5,3\"/>\n",
    "  <text x=\"300\" y=\"165\" font-family=\"Verdana\" font-size=\"35\">Todo menos esto!</text>\n",
    "</svg>"
   ]
  },
  {
   "cell_type": "code",
   "execution_count": 2,
   "metadata": {
    "collapsed": false
   },
   "outputs": [
    {
     "ename": "NameError",
     "evalue": "name 'energy' is not defined",
     "output_type": "error",
     "traceback": [
      "\u001b[1;31m---------------------------------------------------------------------------\u001b[0m",
      "\u001b[1;31mNameError\u001b[0m                                 Traceback (most recent call last)",
      "\u001b[1;32mc:\\Users\\Usuario\\PROYECTO-2\\proyecto_2.ipynb Cell 7\u001b[0m line \u001b[0;36m1\n\u001b[0;32m     <a href='vscode-notebook-cell:/c%3A/Users/Usuario/PROYECTO-2/proyecto_2.ipynb#W6sZmlsZQ%3D%3D?line=11'>12</a>\u001b[0m     result \u001b[39m=\u001b[39m num_merged \u001b[39m-\u001b[39m num_combined\n\u001b[0;32m     <a href='vscode-notebook-cell:/c%3A/Users/Usuario/PROYECTO-2/proyecto_2.ipynb#W6sZmlsZQ%3D%3D?line=12'>13</a>\u001b[0m     \u001b[39mreturn\u001b[39;00m result\n\u001b[1;32m---> <a href='vscode-notebook-cell:/c%3A/Users/Usuario/PROYECTO-2/proyecto_2.ipynb#W6sZmlsZQ%3D%3D?line=13'>14</a>\u001b[0m outer()\n",
      "\u001b[1;32mc:\\Users\\Usuario\\PROYECTO-2\\proyecto_2.ipynb Cell 7\u001b[0m line \u001b[0;36m2\n\u001b[0;32m      <a href='vscode-notebook-cell:/c%3A/Users/Usuario/PROYECTO-2/proyecto_2.ipynb#W6sZmlsZQ%3D%3D?line=0'>1</a>\u001b[0m \u001b[39mdef\u001b[39;00m \u001b[39mouter\u001b[39m():    \n\u001b[1;32m----> <a href='vscode-notebook-cell:/c%3A/Users/Usuario/PROYECTO-2/proyecto_2.ipynb#W6sZmlsZQ%3D%3D?line=1'>2</a>\u001b[0m     num_energy \u001b[39m=\u001b[39m \u001b[39mlen\u001b[39m(energy)\n\u001b[0;32m      <a href='vscode-notebook-cell:/c%3A/Users/Usuario/PROYECTO-2/proyecto_2.ipynb#W6sZmlsZQ%3D%3D?line=2'>3</a>\u001b[0m     num_gdp \u001b[39m=\u001b[39m \u001b[39mlen\u001b[39m(gdp)\n\u001b[0;32m      <a href='vscode-notebook-cell:/c%3A/Users/Usuario/PROYECTO-2/proyecto_2.ipynb#W6sZmlsZQ%3D%3D?line=3'>4</a>\u001b[0m     num_scimgo \u001b[39m=\u001b[39m \u001b[39mlen\u001b[39m(scimgo)\n",
      "\u001b[1;31mNameError\u001b[0m: name 'energy' is not defined"
     ]
    }
   ],
   "source": [
    "def outer():    \n",
    "    num_energy = len(energy)\n",
    "    num_gdp = len(gdp)\n",
    "    num_scimgo = len(scimgo)\n",
    "\n",
    "    merged = pd.merge(scimgo, energy, how='outer', left_on='Country', right_on='Country')\n",
    "\n",
    "    merged = pd.merge(merged, gdp, how='outer', left_on='Country', right_on='Country Name')\n",
    "\n",
    "    num_merged = len(merged)\n",
    "    num_combined = len (load_data())\n",
    "    result = num_merged - num_combined\n",
    "    return result\n",
    "outer()"
   ]
  },
  {
   "cell_type": "markdown",
   "metadata": {
    "deletable": false,
    "editable": false,
    "nbgrader": {
     "checksum": "5af1b4f99cd383263130f4c00442a133",
     "grade": false,
     "grade_id": "cell-2e54816014e48c18",
     "locked": true,
     "schema_version": 1,
     "solution": false
    }
   },
   "source": [
    "### Pregunta 3\n",
    "¿Cuáles son los 15 países con mayor GDP (PBI) promedio en los últimos 10 años?\n",
    "\n",
    "*Esta función debería devolver una serie llamada `avgGDP` con 15 países y su GDP (PBI) promedio ordenado en orden descendente.*"
   ]
  },
  {
   "cell_type": "code",
   "execution_count": 3,
   "metadata": {
    "deletable": false,
    "editable": false,
    "nbgrader": {
     "checksum": "2f9c90ee07138f94c027c5d2f907ab13",
     "grade": true,
     "grade_id": "cell-aaaa11ef7d26f4cf",
     "locked": true,
     "points": 6.66,
     "schema_version": 1,
     "solution": false
    }
   },
   "outputs": [
    {
     "ename": "NameError",
     "evalue": "name 'gdp' is not defined",
     "output_type": "error",
     "traceback": [
      "\u001b[1;31m---------------------------------------------------------------------------\u001b[0m",
      "\u001b[1;31mNameError\u001b[0m                                 Traceback (most recent call last)",
      "\u001b[1;32mc:\\Users\\Usuario\\PROYECTO-2\\proyecto_2.ipynb Cell 9\u001b[0m line \u001b[0;36m1\n\u001b[0;32m     <a href='vscode-notebook-cell:/c%3A/Users/Usuario/PROYECTO-2/proyecto_2.ipynb#X11sZmlsZQ%3D%3D?line=12'>13</a>\u001b[0m     avgGDP \u001b[39m=\u001b[39m top_15_countries\u001b[39m.\u001b[39mset_index(\u001b[39m'\u001b[39m\u001b[39mCountry Name\u001b[39m\u001b[39m'\u001b[39m)[\u001b[39m'\u001b[39m\u001b[39mAverage GDP\u001b[39m\u001b[39m'\u001b[39m]\n\u001b[0;32m     <a href='vscode-notebook-cell:/c%3A/Users/Usuario/PROYECTO-2/proyecto_2.ipynb#X11sZmlsZQ%3D%3D?line=14'>15</a>\u001b[0m     \u001b[39mreturn\u001b[39;00m avgGDP\n\u001b[1;32m---> <a href='vscode-notebook-cell:/c%3A/Users/Usuario/PROYECTO-2/proyecto_2.ipynb#X11sZmlsZQ%3D%3D?line=16'>17</a>\u001b[0m gdp_top_avg()\n",
      "\u001b[1;32mc:\\Users\\Usuario\\PROYECTO-2\\proyecto_2.ipynb Cell 9\u001b[0m line \u001b[0;36m3\n\u001b[0;32m      <a href='vscode-notebook-cell:/c%3A/Users/Usuario/PROYECTO-2/proyecto_2.ipynb#X11sZmlsZQ%3D%3D?line=0'>1</a>\u001b[0m \u001b[39mdef\u001b[39;00m \u001b[39mgdp_top_avg\u001b[39m():\n\u001b[0;32m      <a href='vscode-notebook-cell:/c%3A/Users/Usuario/PROYECTO-2/proyecto_2.ipynb#X11sZmlsZQ%3D%3D?line=1'>2</a>\u001b[0m     gdp_columns \u001b[39m=\u001b[39m [\u001b[39m'\u001b[39m\u001b[39m2006\u001b[39m\u001b[39m'\u001b[39m, \u001b[39m'\u001b[39m\u001b[39m2007\u001b[39m\u001b[39m'\u001b[39m, \u001b[39m'\u001b[39m\u001b[39m2008\u001b[39m\u001b[39m'\u001b[39m, \u001b[39m'\u001b[39m\u001b[39m2009\u001b[39m\u001b[39m'\u001b[39m, \u001b[39m'\u001b[39m\u001b[39m2010\u001b[39m\u001b[39m'\u001b[39m, \u001b[39m'\u001b[39m\u001b[39m2011\u001b[39m\u001b[39m'\u001b[39m, \u001b[39m'\u001b[39m\u001b[39m2012\u001b[39m\u001b[39m'\u001b[39m, \u001b[39m'\u001b[39m\u001b[39m2013\u001b[39m\u001b[39m'\u001b[39m, \u001b[39m'\u001b[39m\u001b[39m2014\u001b[39m\u001b[39m'\u001b[39m, \u001b[39m'\u001b[39m\u001b[39m2015\u001b[39m\u001b[39m'\u001b[39m]\n\u001b[1;32m----> <a href='vscode-notebook-cell:/c%3A/Users/Usuario/PROYECTO-2/proyecto_2.ipynb#X11sZmlsZQ%3D%3D?line=2'>3</a>\u001b[0m     gdp_data \u001b[39m=\u001b[39m gdp[gdp_columns]\n\u001b[0;32m      <a href='vscode-notebook-cell:/c%3A/Users/Usuario/PROYECTO-2/proyecto_2.ipynb#X11sZmlsZQ%3D%3D?line=4'>5</a>\u001b[0m     avgGDP_ \u001b[39m=\u001b[39m gdp_data\u001b[39m.\u001b[39mmean(axis\u001b[39m=\u001b[39m\u001b[39m1\u001b[39m)\n\u001b[0;32m      <a href='vscode-notebook-cell:/c%3A/Users/Usuario/PROYECTO-2/proyecto_2.ipynb#X11sZmlsZQ%3D%3D?line=5'>6</a>\u001b[0m     avgGDP_with_names \u001b[39m=\u001b[39m gdp[[\u001b[39m'\u001b[39m\u001b[39mCountry Name\u001b[39m\u001b[39m'\u001b[39m]]\u001b[39m.\u001b[39mcopy()\n",
      "\u001b[1;31mNameError\u001b[0m: name 'gdp' is not defined"
     ]
    }
   ],
   "source": [
    "def gdp_top_avg():\n",
    "    gdp_columns = ['2006', '2007', '2008', '2009', '2010', '2011', '2012', '2013', '2014', '2015']\n",
    "    gdp_data = gdp[gdp_columns]\n",
    "\n",
    "    avgGDP_ = gdp_data.mean(axis=1)\n",
    "    avgGDP_with_names = gdp[['Country Name']].copy()\n",
    "    avgGDP_with_names['Average GDP'] = avgGDP_\n",
    "\n",
    "    # Ordena los países por su promedio en orden descendente\n",
    "    avgGDP_with_names = avgGDP_with_names.sort_values(by='Average GDP', ascending=False)\n",
    "    \n",
    "    top_15_countries = avgGDP_with_names.head(15)\n",
    "    avgGDP = top_15_countries.set_index('Country Name')['Average GDP']\n",
    "\n",
    "    return avgGDP\n",
    "\n",
    "gdp_top_avg()"
   ]
  },
  {
   "cell_type": "markdown",
   "metadata": {},
   "source": [
    "### Pregunta 4\n",
    "¿Cuánto cambió el GDP (PBI) durante el lapso de 10 años para el país con el sexto GDP (PBI) promedio más grande?\n",
    "\n",
    "*Esta función debería devolver un solo número.*"
   ]
  },
  {
   "cell_type": "code",
   "execution_count": 4,
   "metadata": {
    "deletable": false,
    "editable": false,
    "nbgrader": {
     "checksum": "a7770c49cdfac4fa6368dfe8b39e6474",
     "grade": true,
     "grade_id": "cell-564dd8e5e24b0f83",
     "locked": true,
     "points": 6.66,
     "schema_version": 1,
     "solution": false
    }
   },
   "outputs": [
    {
     "ename": "NameError",
     "evalue": "name 'gdp' is not defined",
     "output_type": "error",
     "traceback": [
      "\u001b[1;31m---------------------------------------------------------------------------\u001b[0m",
      "\u001b[1;31mNameError\u001b[0m                                 Traceback (most recent call last)",
      "\u001b[1;32mc:\\Users\\Usuario\\PROYECTO-2\\proyecto_2.ipynb Cell 11\u001b[0m line \u001b[0;36m8\n\u001b[0;32m      <a href='vscode-notebook-cell:/c%3A/Users/Usuario/PROYECTO-2/proyecto_2.ipynb#X13sZmlsZQ%3D%3D?line=4'>5</a>\u001b[0m     gdp_change \u001b[39m=\u001b[39m gdp_2015 \u001b[39m-\u001b[39m gdp_2006\n\u001b[0;32m      <a href='vscode-notebook-cell:/c%3A/Users/Usuario/PROYECTO-2/proyecto_2.ipynb#X13sZmlsZQ%3D%3D?line=6'>7</a>\u001b[0m     \u001b[39mreturn\u001b[39;00m gdp_change\n\u001b[1;32m----> <a href='vscode-notebook-cell:/c%3A/Users/Usuario/PROYECTO-2/proyecto_2.ipynb#X13sZmlsZQ%3D%3D?line=7'>8</a>\u001b[0m gdp_changes()\n",
      "\u001b[1;32mc:\\Users\\Usuario\\PROYECTO-2\\proyecto_2.ipynb Cell 11\u001b[0m line \u001b[0;36m2\n\u001b[0;32m      <a href='vscode-notebook-cell:/c%3A/Users/Usuario/PROYECTO-2/proyecto_2.ipynb#X13sZmlsZQ%3D%3D?line=0'>1</a>\u001b[0m \u001b[39mdef\u001b[39;00m \u001b[39mgdp_changes\u001b[39m():\n\u001b[1;32m----> <a href='vscode-notebook-cell:/c%3A/Users/Usuario/PROYECTO-2/proyecto_2.ipynb#X13sZmlsZQ%3D%3D?line=1'>2</a>\u001b[0m     sixth_country \u001b[39m=\u001b[39m gdp_top_avg()\u001b[39m.\u001b[39mindex[\u001b[39m5\u001b[39m]\n\u001b[0;32m      <a href='vscode-notebook-cell:/c%3A/Users/Usuario/PROYECTO-2/proyecto_2.ipynb#X13sZmlsZQ%3D%3D?line=2'>3</a>\u001b[0m     gdp_2006 \u001b[39m=\u001b[39m gdp[gdp[\u001b[39m'\u001b[39m\u001b[39mCountry Name\u001b[39m\u001b[39m'\u001b[39m] \u001b[39m==\u001b[39m sixth_country][\u001b[39m'\u001b[39m\u001b[39m2006\u001b[39m\u001b[39m'\u001b[39m]\u001b[39m.\u001b[39mvalues[\u001b[39m0\u001b[39m]\n\u001b[0;32m      <a href='vscode-notebook-cell:/c%3A/Users/Usuario/PROYECTO-2/proyecto_2.ipynb#X13sZmlsZQ%3D%3D?line=3'>4</a>\u001b[0m     gdp_2015 \u001b[39m=\u001b[39m gdp[gdp[\u001b[39m'\u001b[39m\u001b[39mCountry Name\u001b[39m\u001b[39m'\u001b[39m] \u001b[39m==\u001b[39m sixth_country][\u001b[39m'\u001b[39m\u001b[39m2015\u001b[39m\u001b[39m'\u001b[39m]\u001b[39m.\u001b[39mvalues[\u001b[39m0\u001b[39m]\n",
      "\u001b[1;32mc:\\Users\\Usuario\\PROYECTO-2\\proyecto_2.ipynb Cell 11\u001b[0m line \u001b[0;36m3\n\u001b[0;32m      <a href='vscode-notebook-cell:/c%3A/Users/Usuario/PROYECTO-2/proyecto_2.ipynb#X13sZmlsZQ%3D%3D?line=0'>1</a>\u001b[0m \u001b[39mdef\u001b[39;00m \u001b[39mgdp_top_avg\u001b[39m():\n\u001b[0;32m      <a href='vscode-notebook-cell:/c%3A/Users/Usuario/PROYECTO-2/proyecto_2.ipynb#X13sZmlsZQ%3D%3D?line=1'>2</a>\u001b[0m     gdp_columns \u001b[39m=\u001b[39m [\u001b[39m'\u001b[39m\u001b[39m2006\u001b[39m\u001b[39m'\u001b[39m, \u001b[39m'\u001b[39m\u001b[39m2007\u001b[39m\u001b[39m'\u001b[39m, \u001b[39m'\u001b[39m\u001b[39m2008\u001b[39m\u001b[39m'\u001b[39m, \u001b[39m'\u001b[39m\u001b[39m2009\u001b[39m\u001b[39m'\u001b[39m, \u001b[39m'\u001b[39m\u001b[39m2010\u001b[39m\u001b[39m'\u001b[39m, \u001b[39m'\u001b[39m\u001b[39m2011\u001b[39m\u001b[39m'\u001b[39m, \u001b[39m'\u001b[39m\u001b[39m2012\u001b[39m\u001b[39m'\u001b[39m, \u001b[39m'\u001b[39m\u001b[39m2013\u001b[39m\u001b[39m'\u001b[39m, \u001b[39m'\u001b[39m\u001b[39m2014\u001b[39m\u001b[39m'\u001b[39m, \u001b[39m'\u001b[39m\u001b[39m2015\u001b[39m\u001b[39m'\u001b[39m]\n\u001b[1;32m----> <a href='vscode-notebook-cell:/c%3A/Users/Usuario/PROYECTO-2/proyecto_2.ipynb#X13sZmlsZQ%3D%3D?line=2'>3</a>\u001b[0m     gdp_data \u001b[39m=\u001b[39m gdp[gdp_columns]\n\u001b[0;32m      <a href='vscode-notebook-cell:/c%3A/Users/Usuario/PROYECTO-2/proyecto_2.ipynb#X13sZmlsZQ%3D%3D?line=4'>5</a>\u001b[0m     avgGDP_ \u001b[39m=\u001b[39m gdp_data\u001b[39m.\u001b[39mmean(axis\u001b[39m=\u001b[39m\u001b[39m1\u001b[39m)\n\u001b[0;32m      <a href='vscode-notebook-cell:/c%3A/Users/Usuario/PROYECTO-2/proyecto_2.ipynb#X13sZmlsZQ%3D%3D?line=5'>6</a>\u001b[0m     avgGDP_with_names \u001b[39m=\u001b[39m gdp[[\u001b[39m'\u001b[39m\u001b[39mCountry Name\u001b[39m\u001b[39m'\u001b[39m]]\u001b[39m.\u001b[39mcopy()\n",
      "\u001b[1;31mNameError\u001b[0m: name 'gdp' is not defined"
     ]
    }
   ],
   "source": [
    "def gdp_changes():\n",
    "    sixth_country = gdp_top_avg().index[5]\n",
    "    gdp_2006 = gdp[gdp['Country Name'] == sixth_country]['2006'].values[0]\n",
    "    gdp_2015 = gdp[gdp['Country Name'] == sixth_country]['2015'].values[0]\n",
    "    gdp_change = gdp_2015 - gdp_2006\n",
    "   \n",
    "    return gdp_change\n",
    "gdp_changes()"
   ]
  },
  {
   "cell_type": "markdown",
   "metadata": {
    "deletable": false,
    "editable": false,
    "nbgrader": {
     "checksum": "ed6dbc94ff1b6268873413fee12741cd",
     "grade": false,
     "grade_id": "cell-617669111e38ca15",
     "locked": true,
     "schema_version": 1,
     "solution": false
    }
   },
   "source": [
    "### Pregunta 5\n",
    "¿Cuál es el suministro medio de energía per cápita (`Energy Supply per Capita`)?\n",
    "\n",
    "*Esta función debería devolver un solo número.*"
   ]
  },
  {
   "cell_type": "code",
   "execution_count": 5,
   "metadata": {
    "deletable": false,
    "editable": false,
    "nbgrader": {
     "checksum": "9d61bf22656baeecc77f63d54448590e",
     "grade": true,
     "grade_id": "cell-30cc66180851638c",
     "locked": true,
     "points": 6.66,
     "schema_version": 1,
     "solution": false
    }
   },
   "outputs": [
    {
     "ename": "NameError",
     "evalue": "name 'load_data' is not defined",
     "output_type": "error",
     "traceback": [
      "\u001b[1;31m---------------------------------------------------------------------------\u001b[0m",
      "\u001b[1;31mNameError\u001b[0m                                 Traceback (most recent call last)",
      "\u001b[1;32mc:\\Users\\Usuario\\PROYECTO-2\\proyecto_2.ipynb Cell 13\u001b[0m line \u001b[0;36m4\n\u001b[0;32m      <a href='vscode-notebook-cell:/c%3A/Users/Usuario/PROYECTO-2/proyecto_2.ipynb#X15sZmlsZQ%3D%3D?line=1'>2</a>\u001b[0m     avg_energy_per_capita \u001b[39m=\u001b[39m load_data()[\u001b[39m'\u001b[39m\u001b[39mEnergy Supply per Capita\u001b[39m\u001b[39m'\u001b[39m]\u001b[39m.\u001b[39mmean()\n\u001b[0;32m      <a href='vscode-notebook-cell:/c%3A/Users/Usuario/PROYECTO-2/proyecto_2.ipynb#X15sZmlsZQ%3D%3D?line=2'>3</a>\u001b[0m     \u001b[39mreturn\u001b[39;00m avg_energy_per_capita\n\u001b[1;32m----> <a href='vscode-notebook-cell:/c%3A/Users/Usuario/PROYECTO-2/proyecto_2.ipynb#X15sZmlsZQ%3D%3D?line=3'>4</a>\u001b[0m energy_per_capita()\n",
      "\u001b[1;32mc:\\Users\\Usuario\\PROYECTO-2\\proyecto_2.ipynb Cell 13\u001b[0m line \u001b[0;36m2\n\u001b[0;32m      <a href='vscode-notebook-cell:/c%3A/Users/Usuario/PROYECTO-2/proyecto_2.ipynb#X15sZmlsZQ%3D%3D?line=0'>1</a>\u001b[0m \u001b[39mdef\u001b[39;00m \u001b[39menergy_per_capita\u001b[39m():\n\u001b[1;32m----> <a href='vscode-notebook-cell:/c%3A/Users/Usuario/PROYECTO-2/proyecto_2.ipynb#X15sZmlsZQ%3D%3D?line=1'>2</a>\u001b[0m     avg_energy_per_capita \u001b[39m=\u001b[39m load_data()[\u001b[39m'\u001b[39m\u001b[39mEnergy Supply per Capita\u001b[39m\u001b[39m'\u001b[39m]\u001b[39m.\u001b[39mmean()\n\u001b[0;32m      <a href='vscode-notebook-cell:/c%3A/Users/Usuario/PROYECTO-2/proyecto_2.ipynb#X15sZmlsZQ%3D%3D?line=2'>3</a>\u001b[0m     \u001b[39mreturn\u001b[39;00m avg_energy_per_capita\n",
      "\u001b[1;31mNameError\u001b[0m: name 'load_data' is not defined"
     ]
    }
   ],
   "source": [
    "def energy_per_capita():\n",
    "    avg_energy_per_capita = load_data()['Energy Supply per Capita'].mean()\n",
    "    return avg_energy_per_capita\n",
    "energy_per_capita()"
   ]
  },
  {
   "cell_type": "markdown",
   "metadata": {
    "deletable": false,
    "editable": false,
    "nbgrader": {
     "checksum": "2c7a163ae96f56317756456b0d9d695b",
     "grade": false,
     "grade_id": "cell-5c11ddd12fd71b3f",
     "locked": true,
     "schema_version": 1,
     "solution": false
    }
   },
   "source": [
    "### Pregunta 6\n",
    "¿Qué país tiene el máximo `% Renewable` y cuál es el porcentaje?\n",
    "\n",
    "*Esta función debe devolver una tupla con el nombre del país y el porcentaje.*"
   ]
  },
  {
   "cell_type": "code",
   "execution_count": 6,
   "metadata": {
    "deletable": false,
    "editable": false,
    "nbgrader": {
     "checksum": "f8b28b0a824a3b76a6244c1273648ccd",
     "grade": true,
     "grade_id": "cell-2bd201c5c7bdd80f",
     "locked": true,
     "points": 6.66,
     "schema_version": 1,
     "solution": false
    }
   },
   "outputs": [
    {
     "ename": "NameError",
     "evalue": "name 'load_data' is not defined",
     "output_type": "error",
     "traceback": [
      "\u001b[1;31m---------------------------------------------------------------------------\u001b[0m",
      "\u001b[1;31mNameError\u001b[0m                                 Traceback (most recent call last)",
      "\u001b[1;32mc:\\Users\\Usuario\\PROYECTO-2\\proyecto_2.ipynb Cell 15\u001b[0m line \u001b[0;36m5\n\u001b[0;32m      <a href='vscode-notebook-cell:/c%3A/Users/Usuario/PROYECTO-2/proyecto_2.ipynb#X20sZmlsZQ%3D%3D?line=2'>3</a>\u001b[0m     max_ren_percentage \u001b[39m=\u001b[39m load_data()\u001b[39m.\u001b[39mloc[max_ren, \u001b[39m'\u001b[39m\u001b[39m%\u001b[39m\u001b[39m Renewable\u001b[39m\u001b[39m'\u001b[39m]\n\u001b[0;32m      <a href='vscode-notebook-cell:/c%3A/Users/Usuario/PROYECTO-2/proyecto_2.ipynb#X20sZmlsZQ%3D%3D?line=3'>4</a>\u001b[0m     \u001b[39mreturn\u001b[39;00m (max_ren, max_ren_percentage)\n\u001b[1;32m----> <a href='vscode-notebook-cell:/c%3A/Users/Usuario/PROYECTO-2/proyecto_2.ipynb#X20sZmlsZQ%3D%3D?line=4'>5</a>\u001b[0m max_renewable()\n",
      "\u001b[1;32mc:\\Users\\Usuario\\PROYECTO-2\\proyecto_2.ipynb Cell 15\u001b[0m line \u001b[0;36m2\n\u001b[0;32m      <a href='vscode-notebook-cell:/c%3A/Users/Usuario/PROYECTO-2/proyecto_2.ipynb#X20sZmlsZQ%3D%3D?line=0'>1</a>\u001b[0m \u001b[39mdef\u001b[39;00m \u001b[39mmax_renewable\u001b[39m():\n\u001b[1;32m----> <a href='vscode-notebook-cell:/c%3A/Users/Usuario/PROYECTO-2/proyecto_2.ipynb#X20sZmlsZQ%3D%3D?line=1'>2</a>\u001b[0m     max_ren \u001b[39m=\u001b[39m load_data()[\u001b[39m'\u001b[39m\u001b[39m%\u001b[39m\u001b[39m Renewable\u001b[39m\u001b[39m'\u001b[39m]\u001b[39m.\u001b[39midxmax()\n\u001b[0;32m      <a href='vscode-notebook-cell:/c%3A/Users/Usuario/PROYECTO-2/proyecto_2.ipynb#X20sZmlsZQ%3D%3D?line=2'>3</a>\u001b[0m     max_ren_percentage \u001b[39m=\u001b[39m load_data()\u001b[39m.\u001b[39mloc[max_ren, \u001b[39m'\u001b[39m\u001b[39m%\u001b[39m\u001b[39m Renewable\u001b[39m\u001b[39m'\u001b[39m]\n\u001b[0;32m      <a href='vscode-notebook-cell:/c%3A/Users/Usuario/PROYECTO-2/proyecto_2.ipynb#X20sZmlsZQ%3D%3D?line=3'>4</a>\u001b[0m     \u001b[39mreturn\u001b[39;00m (max_ren, max_ren_percentage)\n",
      "\u001b[1;31mNameError\u001b[0m: name 'load_data' is not defined"
     ]
    }
   ],
   "source": [
    "def max_renewable():\n",
    "    max_ren = load_data()['% Renewable'].idxmax()\n",
    "    max_ren_percentage = load_data().loc[max_ren, '% Renewable']\n",
    "    return (max_ren, max_ren_percentage)\n",
    "max_renewable()\n"
   ]
  },
  {
   "cell_type": "markdown",
   "metadata": {
    "deletable": false,
    "editable": false,
    "nbgrader": {
     "checksum": "a7b561a486a28ee4ba80a40715617c6d",
     "grade": false,
     "grade_id": "cell-ddf52a85ad3d5a11",
     "locked": true,
     "schema_version": 1,
     "solution": false
    }
   },
   "source": [
    "### Pregunta 7\n",
    "Cree una nueva columna que sea la relación entre `Self-Citations` y `Total Citations`.\n",
    "¿Cuál es el valor máximo para esta nueva columna y qué país tiene la relación más alta?\n",
    "\n",
    "*Esta función debe devolver una tupla con el nombre del país y el ratio (proporción).*"
   ]
  },
  {
   "cell_type": "code",
   "execution_count": 7,
   "metadata": {
    "deletable": false,
    "editable": false,
    "nbgrader": {
     "checksum": "ca448b3a16b65a3a08533cac736cc4d9",
     "grade": true,
     "grade_id": "cell-b7a163e9231b88c9",
     "locked": true,
     "points": 6.66,
     "schema_version": 1,
     "solution": false
    }
   },
   "outputs": [
    {
     "ename": "NameError",
     "evalue": "name 'load_data' is not defined",
     "output_type": "error",
     "traceback": [
      "\u001b[1;31m---------------------------------------------------------------------------\u001b[0m",
      "\u001b[1;31mNameError\u001b[0m                                 Traceback (most recent call last)",
      "\u001b[1;32mc:\\Users\\Usuario\\PROYECTO-2\\proyecto_2.ipynb Cell 17\u001b[0m line \u001b[0;36m8\n\u001b[0;32m      <a href='vscode-notebook-cell:/c%3A/Users/Usuario/PROYECTO-2/proyecto_2.ipynb#X22sZmlsZQ%3D%3D?line=4'>5</a>\u001b[0m     \u001b[39mmax\u001b[39m \u001b[39m=\u001b[39m combined\u001b[39m.\u001b[39mloc[max_id, \u001b[39m'\u001b[39m\u001b[39mCitations Ratio\u001b[39m\u001b[39m'\u001b[39m]\n\u001b[0;32m      <a href='vscode-notebook-cell:/c%3A/Users/Usuario/PROYECTO-2/proyecto_2.ipynb#X22sZmlsZQ%3D%3D?line=5'>6</a>\u001b[0m     \u001b[39mreturn\u001b[39;00m (max_id, \u001b[39mmax\u001b[39m)\n\u001b[1;32m----> <a href='vscode-notebook-cell:/c%3A/Users/Usuario/PROYECTO-2/proyecto_2.ipynb#X22sZmlsZQ%3D%3D?line=7'>8</a>\u001b[0m self_citations()\n",
      "\u001b[1;32mc:\\Users\\Usuario\\PROYECTO-2\\proyecto_2.ipynb Cell 17\u001b[0m line \u001b[0;36m2\n\u001b[0;32m      <a href='vscode-notebook-cell:/c%3A/Users/Usuario/PROYECTO-2/proyecto_2.ipynb#X22sZmlsZQ%3D%3D?line=0'>1</a>\u001b[0m \u001b[39mdef\u001b[39;00m \u001b[39mself_citations\u001b[39m():\n\u001b[1;32m----> <a href='vscode-notebook-cell:/c%3A/Users/Usuario/PROYECTO-2/proyecto_2.ipynb#X22sZmlsZQ%3D%3D?line=1'>2</a>\u001b[0m     combined \u001b[39m=\u001b[39m load_data()\n\u001b[0;32m      <a href='vscode-notebook-cell:/c%3A/Users/Usuario/PROYECTO-2/proyecto_2.ipynb#X22sZmlsZQ%3D%3D?line=2'>3</a>\u001b[0m     combined[\u001b[39m'\u001b[39m\u001b[39mCitations Ratio\u001b[39m\u001b[39m'\u001b[39m] \u001b[39m=\u001b[39m combined[\u001b[39m'\u001b[39m\u001b[39mSelf-citations\u001b[39m\u001b[39m'\u001b[39m] \u001b[39m/\u001b[39m combined[\u001b[39m'\u001b[39m\u001b[39mCitations\u001b[39m\u001b[39m'\u001b[39m]\n\u001b[0;32m      <a href='vscode-notebook-cell:/c%3A/Users/Usuario/PROYECTO-2/proyecto_2.ipynb#X22sZmlsZQ%3D%3D?line=3'>4</a>\u001b[0m     max_id \u001b[39m=\u001b[39m  combined[\u001b[39m'\u001b[39m\u001b[39mCitations Ratio\u001b[39m\u001b[39m'\u001b[39m]\u001b[39m.\u001b[39midxmax()\n",
      "\u001b[1;31mNameError\u001b[0m: name 'load_data' is not defined"
     ]
    }
   ],
   "source": [
    "def self_citations():\n",
    "    combined = load_data()\n",
    "    combined['Citations Ratio'] = combined['Self-citations'] / combined['Citations']\n",
    "    max_id =  combined['Citations Ratio'].idxmax()\n",
    "    max = combined.loc[max_id, 'Citations Ratio']\n",
    "    return (max_id, max)\n",
    "\n",
    "self_citations()"
   ]
  },
  {
   "cell_type": "markdown",
   "metadata": {
    "deletable": false,
    "editable": false,
    "nbgrader": {
     "checksum": "7be7b86ee7467539dd88746818c78c0e",
     "grade": false,
     "grade_id": "cell-5c89296ab6f94218",
     "locked": true,
     "schema_version": 1,
     "solution": false
    }
   },
   "source": [
    "### Pregunta 8\n",
    "\n",
    "Crea una columna que estime la población utilizando `Energy Supply` y `Energy Supply per capita`.\n",
    "¿Cuál es el tercer país más poblado según esta estimación?\n",
    "\n",
    "*Esta función debería devolver el nombre del país*"
   ]
  },
  {
   "cell_type": "code",
   "execution_count": 8,
   "metadata": {
    "deletable": false,
    "editable": false,
    "nbgrader": {
     "checksum": "ba2ad50cf8198767b0bd2f75b8d97e87",
     "grade": true,
     "grade_id": "cell-3f3620c88df08b20",
     "locked": true,
     "points": 0,
     "schema_version": 1,
     "solution": false
    }
   },
   "outputs": [
    {
     "ename": "NameError",
     "evalue": "name 'load_data' is not defined",
     "output_type": "error",
     "traceback": [
      "\u001b[1;31m---------------------------------------------------------------------------\u001b[0m",
      "\u001b[1;31mNameError\u001b[0m                                 Traceback (most recent call last)",
      "\u001b[1;32mc:\\Users\\Usuario\\PROYECTO-2\\proyecto_2.ipynb Cell 19\u001b[0m line \u001b[0;36m7\n\u001b[0;32m      <a href='vscode-notebook-cell:/c%3A/Users/Usuario/PROYECTO-2/proyecto_2.ipynb#X24sZmlsZQ%3D%3D?line=4'>5</a>\u001b[0m     thrid \u001b[39m=\u001b[39m data\u001b[39m.\u001b[39miloc[\u001b[39m2\u001b[39m]\u001b[39m.\u001b[39mname\n\u001b[0;32m      <a href='vscode-notebook-cell:/c%3A/Users/Usuario/PROYECTO-2/proyecto_2.ipynb#X24sZmlsZQ%3D%3D?line=5'>6</a>\u001b[0m     \u001b[39mreturn\u001b[39;00m thrid\n\u001b[1;32m----> <a href='vscode-notebook-cell:/c%3A/Users/Usuario/PROYECTO-2/proyecto_2.ipynb#X24sZmlsZQ%3D%3D?line=6'>7</a>\u001b[0m population()\n",
      "\u001b[1;32mc:\\Users\\Usuario\\PROYECTO-2\\proyecto_2.ipynb Cell 19\u001b[0m line \u001b[0;36m2\n\u001b[0;32m      <a href='vscode-notebook-cell:/c%3A/Users/Usuario/PROYECTO-2/proyecto_2.ipynb#X24sZmlsZQ%3D%3D?line=0'>1</a>\u001b[0m \u001b[39mdef\u001b[39;00m \u001b[39mpopulation\u001b[39m():\n\u001b[1;32m----> <a href='vscode-notebook-cell:/c%3A/Users/Usuario/PROYECTO-2/proyecto_2.ipynb#X24sZmlsZQ%3D%3D?line=1'>2</a>\u001b[0m     data \u001b[39m=\u001b[39m load_data()\n\u001b[0;32m      <a href='vscode-notebook-cell:/c%3A/Users/Usuario/PROYECTO-2/proyecto_2.ipynb#X24sZmlsZQ%3D%3D?line=2'>3</a>\u001b[0m     data[\u001b[39m'\u001b[39m\u001b[39mPopulation\u001b[39m\u001b[39m'\u001b[39m] \u001b[39m=\u001b[39m data[\u001b[39m'\u001b[39m\u001b[39mEnergy Supply\u001b[39m\u001b[39m'\u001b[39m] \u001b[39m/\u001b[39m data[\u001b[39m'\u001b[39m\u001b[39mEnergy Supply per Capita\u001b[39m\u001b[39m'\u001b[39m]\n\u001b[0;32m      <a href='vscode-notebook-cell:/c%3A/Users/Usuario/PROYECTO-2/proyecto_2.ipynb#X24sZmlsZQ%3D%3D?line=3'>4</a>\u001b[0m     data \u001b[39m=\u001b[39m data\u001b[39m.\u001b[39msort_values(by \u001b[39m=\u001b[39m \u001b[39m'\u001b[39m\u001b[39mPopulation\u001b[39m\u001b[39m'\u001b[39m, ascending\u001b[39m=\u001b[39m \u001b[39mFalse\u001b[39;00m)\n",
      "\u001b[1;31mNameError\u001b[0m: name 'load_data' is not defined"
     ]
    }
   ],
   "source": [
    "def population():\n",
    "    data = load_data()\n",
    "    data['Population'] = data['Energy Supply'] / data['Energy Supply per Capita']\n",
    "    data = data.sort_values(by = 'Population', ascending= False)\n",
    "    thrid = data.iloc[2].name\n",
    "    return thrid\n",
    "population()"
   ]
  },
  {
   "cell_type": "markdown",
   "metadata": {
    "deletable": false,
    "editable": false,
    "nbgrader": {
     "checksum": "164cba98164a1045db7de10dd37115c8",
     "grade": false,
     "grade_id": "cell-2065207e66e5ec01",
     "locked": true,
     "schema_version": 1,
     "solution": false
    }
   },
   "source": [
    "### Pregunta 9\n",
    "Crea una columna que estime el número de `Citable documents` por persona.\n",
    "¿Cuál es la correlación entre el número de `Citable documents` per cápita y el `Energy Supply per Capita`? Utiliza el método `.corr()`, (correlación de Pearson).\n",
    "\n",
    "*Esta función debería devolver un solo número.*\n",
    "\n",
    "*(Opcional: utiliza la función `plot9()` para visualizar la relación entre el suministro de energía per cápita y los `Citable documents` per cápita)*"
   ]
  },
  {
   "cell_type": "code",
   "execution_count": 9,
   "metadata": {
    "deletable": false,
    "nbgrader": {
     "checksum": "94e06c4c3a9618b94dbb0e86913b546c",
     "grade": false,
     "grade_id": "cell-033679ea456bfb9d",
     "locked": false,
     "schema_version": 1,
     "solution": true
    }
   },
   "outputs": [
    {
     "ename": "NameError",
     "evalue": "name 'load_data' is not defined",
     "output_type": "error",
     "traceback": [
      "\u001b[1;31m---------------------------------------------------------------------------\u001b[0m",
      "\u001b[1;31mNameError\u001b[0m                                 Traceback (most recent call last)",
      "\u001b[1;32mc:\\Users\\Usuario\\PROYECTO-2\\proyecto_2.ipynb Cell 21\u001b[0m line \u001b[0;36m6\n\u001b[0;32m      <a href='vscode-notebook-cell:/c%3A/Users/Usuario/PROYECTO-2/proyecto_2.ipynb#X26sZmlsZQ%3D%3D?line=3'>4</a>\u001b[0m     correlacion \u001b[39m=\u001b[39m data[\u001b[39m'\u001b[39m\u001b[39mCitable documents\u001b[39m\u001b[39m'\u001b[39m]\u001b[39m.\u001b[39mcorr(data[\u001b[39m'\u001b[39m\u001b[39mEnergy Supply per Capita\u001b[39m\u001b[39m'\u001b[39m])\n\u001b[0;32m      <a href='vscode-notebook-cell:/c%3A/Users/Usuario/PROYECTO-2/proyecto_2.ipynb#X26sZmlsZQ%3D%3D?line=4'>5</a>\u001b[0m     \u001b[39mreturn\u001b[39;00m correlacion\n\u001b[1;32m----> <a href='vscode-notebook-cell:/c%3A/Users/Usuario/PROYECTO-2/proyecto_2.ipynb#X26sZmlsZQ%3D%3D?line=5'>6</a>\u001b[0m citable_documents_per_capita()\n",
      "\u001b[1;32mc:\\Users\\Usuario\\PROYECTO-2\\proyecto_2.ipynb Cell 21\u001b[0m line \u001b[0;36m2\n\u001b[0;32m      <a href='vscode-notebook-cell:/c%3A/Users/Usuario/PROYECTO-2/proyecto_2.ipynb#X26sZmlsZQ%3D%3D?line=0'>1</a>\u001b[0m \u001b[39mdef\u001b[39;00m \u001b[39mcitable_documents_per_capita\u001b[39m():\n\u001b[1;32m----> <a href='vscode-notebook-cell:/c%3A/Users/Usuario/PROYECTO-2/proyecto_2.ipynb#X26sZmlsZQ%3D%3D?line=1'>2</a>\u001b[0m     data \u001b[39m=\u001b[39m load_data()\n\u001b[0;32m      <a href='vscode-notebook-cell:/c%3A/Users/Usuario/PROYECTO-2/proyecto_2.ipynb#X26sZmlsZQ%3D%3D?line=2'>3</a>\u001b[0m     data[\u001b[39m'\u001b[39m\u001b[39mCitable documents per capita\u001b[39m\u001b[39m'\u001b[39m] \u001b[39m=\u001b[39m data[\u001b[39m'\u001b[39m\u001b[39mCitable documents\u001b[39m\u001b[39m'\u001b[39m]  \u001b[39m/\u001b[39m data[\u001b[39m'\u001b[39m\u001b[39mEnergy Supply per Capita\u001b[39m\u001b[39m'\u001b[39m]\n\u001b[0;32m      <a href='vscode-notebook-cell:/c%3A/Users/Usuario/PROYECTO-2/proyecto_2.ipynb#X26sZmlsZQ%3D%3D?line=3'>4</a>\u001b[0m     correlacion \u001b[39m=\u001b[39m data[\u001b[39m'\u001b[39m\u001b[39mCitable documents\u001b[39m\u001b[39m'\u001b[39m]\u001b[39m.\u001b[39mcorr(data[\u001b[39m'\u001b[39m\u001b[39mEnergy Supply per Capita\u001b[39m\u001b[39m'\u001b[39m])\n",
      "\u001b[1;31mNameError\u001b[0m: name 'load_data' is not defined"
     ]
    }
   ],
   "source": [
    "def citable_documents_per_capita():\n",
    "    data = load_data()\n",
    "    data['Citable documents per capita'] = data['Citable documents']  / data['Energy Supply per Capita']\n",
    "    correlacion = data['Citable documents'].corr(data['Energy Supply per Capita'])\n",
    "    return correlacion\n",
    "citable_documents_per_capita()"
   ]
  },
  {
   "cell_type": "code",
   "execution_count": 2,
   "metadata": {
    "ExecuteTime": {
     "end_time": "2023-05-20T14:27:50.500005076Z",
     "start_time": "2023-05-20T14:27:50.405942999Z"
    },
    "deletable": false,
    "editable": false,
    "nbgrader": {
     "checksum": "01a146bbcca0fa9c9c13e71ab52e710f",
     "grade": false,
     "grade_id": "cell-644824f6c708bf80",
     "locked": true,
     "schema_version": 1,
     "solution": false
    }
   },
   "outputs": [],
   "source": [
    "def plot9():\n",
    "    import matplotlib as plt\n",
    "    %matplotlib inline\n",
    "\n",
    "    top15 = df  # df debe ser el nombre del DataFrame que obtuviste en la pregunta 1\n",
    "    top15['PopEst'] = top15['Energy Supply'] / top15['Energy Supply per Capita']\n",
    "    top15['Citable docs per Capita'] = top15['Citable documents'] / top15['PopEst']\n",
    "    top15.plot(x='Citable docs per Capita', y='Energy Supply per Capita', kind='scatter', xlim=[0, 0.0006])\n",
    "\n",
    "plot9()"
   ]
  },
  {
   "cell_type": "markdown",
   "metadata": {
    "deletable": false,
    "editable": false,
    "nbgrader": {
     "checksum": "8af5ffad89be1e5c6292438724d6f8d5",
     "grade": false,
     "grade_id": "cell-ad09765e29b91157",
     "locked": true,
     "schema_version": 1,
     "solution": false
    }
   },
   "source": [
    "### Pregunta 10\n",
    "Crea una nueva columna con un valor igual a 1 si el valor de % de energía renovable del país (`% Renewable`) es igual o superior de la mediana de todos los países en el top 15, o con un valor igual a 0 si el valor de % de energía renovable del país (`% Renewable`) está por debajo de la mediana.\n",
    "\n",
    "*Esta función debería devolver una serie llamada `HighRenew` cuyo índice es el nombre del país ordenado ascendentemente según el ranking.*"
   ]
  },
  {
   "cell_type": "code",
   "execution_count": 10,
   "metadata": {
    "deletable": false,
    "editable": false,
    "nbgrader": {
     "checksum": "f624e6996eca5796eaf27fb4d0593175",
     "grade": true,
     "grade_id": "cell-b29a631fd9a7730f",
     "locked": true,
     "points": 6.66,
     "schema_version": 1,
     "solution": false
    }
   },
   "outputs": [
    {
     "ename": "NameError",
     "evalue": "name 'load_data' is not defined",
     "output_type": "error",
     "traceback": [
      "\u001b[1;31m---------------------------------------------------------------------------\u001b[0m",
      "\u001b[1;31mNameError\u001b[0m                                 Traceback (most recent call last)",
      "\u001b[1;32mc:\\Users\\Usuario\\PROYECTO-2\\proyecto_2.ipynb Cell 24\u001b[0m line \u001b[0;36m1\n\u001b[0;32m     <a href='vscode-notebook-cell:/c%3A/Users/Usuario/PROYECTO-2/proyecto_2.ipynb#X32sZmlsZQ%3D%3D?line=9'>10</a>\u001b[0m     \u001b[39m# Devolver la serie HighRenew\u001b[39;00m\n\u001b[0;32m     <a href='vscode-notebook-cell:/c%3A/Users/Usuario/PROYECTO-2/proyecto_2.ipynb#X32sZmlsZQ%3D%3D?line=10'>11</a>\u001b[0m     \u001b[39mreturn\u001b[39;00m HighRenew[\u001b[39m'\u001b[39m\u001b[39mHighRenew\u001b[39m\u001b[39m'\u001b[39m]\n\u001b[1;32m---> <a href='vscode-notebook-cell:/c%3A/Users/Usuario/PROYECTO-2/proyecto_2.ipynb#X32sZmlsZQ%3D%3D?line=12'>13</a>\u001b[0m high_renewable()\n",
      "\u001b[1;32mc:\\Users\\Usuario\\PROYECTO-2\\proyecto_2.ipynb Cell 24\u001b[0m line \u001b[0;36m3\n\u001b[0;32m      <a href='vscode-notebook-cell:/c%3A/Users/Usuario/PROYECTO-2/proyecto_2.ipynb#X32sZmlsZQ%3D%3D?line=0'>1</a>\u001b[0m \u001b[39mdef\u001b[39;00m \u001b[39mhigh_renewable\u001b[39m():\n\u001b[0;32m      <a href='vscode-notebook-cell:/c%3A/Users/Usuario/PROYECTO-2/proyecto_2.ipynb#X32sZmlsZQ%3D%3D?line=1'>2</a>\u001b[0m     \u001b[39m# Obtener los datos del top 15\u001b[39;00m\n\u001b[1;32m----> <a href='vscode-notebook-cell:/c%3A/Users/Usuario/PROYECTO-2/proyecto_2.ipynb#X32sZmlsZQ%3D%3D?line=2'>3</a>\u001b[0m     HighRenew \u001b[39m=\u001b[39m load_data()\n\u001b[0;32m      <a href='vscode-notebook-cell:/c%3A/Users/Usuario/PROYECTO-2/proyecto_2.ipynb#X32sZmlsZQ%3D%3D?line=3'>4</a>\u001b[0m     \u001b[39m# Calcular la mediana de la columna % Renewable\u001b[39;00m\n\u001b[0;32m      <a href='vscode-notebook-cell:/c%3A/Users/Usuario/PROYECTO-2/proyecto_2.ipynb#X32sZmlsZQ%3D%3D?line=4'>5</a>\u001b[0m     median_renewable \u001b[39m=\u001b[39m HighRenew[\u001b[39m'\u001b[39m\u001b[39m%\u001b[39m\u001b[39m Renewable\u001b[39m\u001b[39m'\u001b[39m]\u001b[39m.\u001b[39mmedian()\n",
      "\u001b[1;31mNameError\u001b[0m: name 'load_data' is not defined"
     ]
    }
   ],
   "source": [
    "def high_renewable():\n",
    "    # Obtener los datos del top 15\n",
    "    HighRenew = load_data()\n",
    "    # Calcular la mediana de la columna % Renewable\n",
    "    median_renewable = HighRenew['% Renewable'].median()\n",
    "    # Crear la columna HighRenew con valores 1 o 0\n",
    "    HighRenew['HighRenew'] = (HighRenew['% Renewable'] >= median_renewable).astype(int)\n",
    "    # Ordenar los países por ranking\n",
    "    HighRenew.sort_values(by='Rank', inplace=True)\n",
    "    # Devolver la serie HighRenew\n",
    "    return HighRenew['HighRenew']\n",
    "\n",
    "high_renewable()"
   ]
  },
  {
   "cell_type": "markdown",
   "metadata": {
    "deletable": false,
    "editable": false,
    "nbgrader": {
     "checksum": "52f682e7066791c34cd3b2402855cbf5",
     "grade": false,
     "grade_id": "cell-677c51ba711c3af7",
     "locked": true,
     "schema_version": 1,
     "solution": false
    }
   },
   "source": [
    "### Pregunta 11\n",
    "Utiliza el siguiente diccionario para agrupar los países por continente, luego crea un DataFrame que muestre el tamaño de la muestra (la cantidad de países en cada contenedor de continente) y la suma, la media y la desviación estándar para la población estimada de cada país.\n",
    "\n",
    "```python\n",
    "continent_dict  = {'China':'Asia',\n",
    "                   'United States':'North America',\n",
    "                   'Japan':'Asia',\n",
    "                   'United Kingdom':'Europe',\n",
    "                   'Russian Federation':'Europe',\n",
    "                   'Canada':'North America',\n",
    "                   'Germany':'Europe',\n",
    "                   'India':'Asia',\n",
    "                   'France':'Europe',\n",
    "                   'South Korea':'Asia',\n",
    "                   'Italy':'Europe',\n",
    "                   'Spain':'Europe',\n",
    "                   'Iran':'Asia',\n",
    "                   'Australia':'Australia',\n",
    "                   'Brazil':'South America'}\n",
    "```\n",
    "\n",
    "*Esta función debería devolver un DataFrame con un índice llamado Continent `['Asia', 'Australia', 'Europe', 'North America', 'South America']` y columnas `['size', 'sum', 'mean', 'std']`*"
   ]
  },
  {
   "cell_type": "code",
   "execution_count": 1,
   "metadata": {
    "deletable": false,
    "editable": false,
    "nbgrader": {
     "checksum": "233318097d9c94fdc87395c967da14c4",
     "grade": true,
     "grade_id": "cell-18d1a07971b25743",
     "locked": true,
     "points": 6.66,
     "schema_version": 1,
     "solution": false
    }
   },
   "outputs": [
    {
     "ename": "NameError",
     "evalue": "name 'load_data' is not defined",
     "output_type": "error",
     "traceback": [
      "\u001b[1;31m---------------------------------------------------------------------------\u001b[0m",
      "\u001b[1;31mNameError\u001b[0m                                 Traceback (most recent call last)",
      "\u001b[1;32mc:\\Users\\Usuario\\PROYECTO-2\\proyecto_2.ipynb Cell 26\u001b[0m line \u001b[0;36m3\n\u001b[0;32m     <a href='vscode-notebook-cell:/c%3A/Users/Usuario/PROYECTO-2/proyecto_2.ipynb#X34sZmlsZQ%3D%3D?line=28'>29</a>\u001b[0m     grouped \u001b[39m=\u001b[39m data\u001b[39m.\u001b[39mgroupby(\u001b[39m'\u001b[39m\u001b[39mContinent\u001b[39m\u001b[39m'\u001b[39m)[\u001b[39m'\u001b[39m\u001b[39mPopulation\u001b[39m\u001b[39m'\u001b[39m]\u001b[39m.\u001b[39magg([\u001b[39m'\u001b[39m\u001b[39msize\u001b[39m\u001b[39m'\u001b[39m, \u001b[39m'\u001b[39m\u001b[39msum\u001b[39m\u001b[39m'\u001b[39m, \u001b[39m'\u001b[39m\u001b[39mmean\u001b[39m\u001b[39m'\u001b[39m, \u001b[39m'\u001b[39m\u001b[39mstd\u001b[39m\u001b[39m'\u001b[39m])\n\u001b[0;32m     <a href='vscode-notebook-cell:/c%3A/Users/Usuario/PROYECTO-2/proyecto_2.ipynb#X34sZmlsZQ%3D%3D?line=30'>31</a>\u001b[0m     \u001b[39mreturn\u001b[39;00m grouped\n\u001b[1;32m---> <a href='vscode-notebook-cell:/c%3A/Users/Usuario/PROYECTO-2/proyecto_2.ipynb#X34sZmlsZQ%3D%3D?line=32'>33</a>\u001b[0m group_by_continent()\n",
      "\u001b[1;32mc:\\Users\\Usuario\\PROYECTO-2\\proyecto_2.ipynb Cell 26\u001b[0m line \u001b[0;36m3\n\u001b[0;32m      <a href='vscode-notebook-cell:/c%3A/Users/Usuario/PROYECTO-2/proyecto_2.ipynb#X34sZmlsZQ%3D%3D?line=0'>1</a>\u001b[0m \u001b[39mdef\u001b[39;00m \u001b[39mgroup_by_continent\u001b[39m():\n\u001b[1;32m----> <a href='vscode-notebook-cell:/c%3A/Users/Usuario/PROYECTO-2/proyecto_2.ipynb#X34sZmlsZQ%3D%3D?line=2'>3</a>\u001b[0m     data \u001b[39m=\u001b[39m load_data()\n\u001b[0;32m      <a href='vscode-notebook-cell:/c%3A/Users/Usuario/PROYECTO-2/proyecto_2.ipynb#X34sZmlsZQ%3D%3D?line=4'>5</a>\u001b[0m     \u001b[39m# Diccionario de continentes\u001b[39;00m\n\u001b[0;32m      <a href='vscode-notebook-cell:/c%3A/Users/Usuario/PROYECTO-2/proyecto_2.ipynb#X34sZmlsZQ%3D%3D?line=5'>6</a>\u001b[0m     continent_dict \u001b[39m=\u001b[39m {\u001b[39m'\u001b[39m\u001b[39mChina\u001b[39m\u001b[39m'\u001b[39m: \u001b[39m'\u001b[39m\u001b[39mAsia\u001b[39m\u001b[39m'\u001b[39m,\n\u001b[0;32m      <a href='vscode-notebook-cell:/c%3A/Users/Usuario/PROYECTO-2/proyecto_2.ipynb#X34sZmlsZQ%3D%3D?line=6'>7</a>\u001b[0m                       \u001b[39m'\u001b[39m\u001b[39mUnited States\u001b[39m\u001b[39m'\u001b[39m: \u001b[39m'\u001b[39m\u001b[39mNorth America\u001b[39m\u001b[39m'\u001b[39m,\n\u001b[0;32m      <a href='vscode-notebook-cell:/c%3A/Users/Usuario/PROYECTO-2/proyecto_2.ipynb#X34sZmlsZQ%3D%3D?line=7'>8</a>\u001b[0m                       \u001b[39m'\u001b[39m\u001b[39mJapan\u001b[39m\u001b[39m'\u001b[39m: \u001b[39m'\u001b[39m\u001b[39mAsia\u001b[39m\u001b[39m'\u001b[39m,\n\u001b[1;32m   (...)\u001b[0m\n\u001b[0;32m     <a href='vscode-notebook-cell:/c%3A/Users/Usuario/PROYECTO-2/proyecto_2.ipynb#X34sZmlsZQ%3D%3D?line=18'>19</a>\u001b[0m                       \u001b[39m'\u001b[39m\u001b[39mAustralia\u001b[39m\u001b[39m'\u001b[39m: \u001b[39m'\u001b[39m\u001b[39mAustralia\u001b[39m\u001b[39m'\u001b[39m,\n\u001b[0;32m     <a href='vscode-notebook-cell:/c%3A/Users/Usuario/PROYECTO-2/proyecto_2.ipynb#X34sZmlsZQ%3D%3D?line=19'>20</a>\u001b[0m                       \u001b[39m'\u001b[39m\u001b[39mBrazil\u001b[39m\u001b[39m'\u001b[39m: \u001b[39m'\u001b[39m\u001b[39mSouth America\u001b[39m\u001b[39m'\u001b[39m}\n",
      "\u001b[1;31mNameError\u001b[0m: name 'load_data' is not defined"
     ]
    }
   ],
   "source": [
    "def group_by_continent():\n",
    "   \n",
    "    data = load_data()\n",
    "    \n",
    "    # Diccionario de continentes\n",
    "    continent_dict = {'China': 'Asia',\n",
    "                      'United States': 'North America',\n",
    "                      'Japan': 'Asia',\n",
    "                      'United Kingdom': 'Europe',\n",
    "                      'Russian Federation': 'Europe',\n",
    "                      'Canada': 'North America',\n",
    "                      'Germany': 'Europe',\n",
    "                      'India': 'Asia',\n",
    "                      'France': 'Europe',\n",
    "                      'South Korea': 'Asia',\n",
    "                      'Italy': 'Europe',\n",
    "                      'Spain': 'Europe',\n",
    "                      'Iran': 'Asia',\n",
    "                      'Australia': 'Australia',\n",
    "                      'Brazil': 'South America'}\n",
    "    \n",
    "   # Agregar la columna 'Continent' al DataFrame\n",
    "    data['Continent'] = [continent_dict[country] for country in data.index]\n",
    "\n",
    "    # Calcular la población estimada y agregarla al DataFrame\n",
    "    data['Population'] = data['Energy Supply'] / data['Energy Supply per Capita']\n",
    "\n",
    "    # Agrupar por continente y calcular las estadísticas\n",
    "    grouped = data.groupby('Continent')['Population'].agg(['size', 'sum', 'mean', 'std'])\n",
    "    \n",
    "    return grouped\n",
    "\n",
    "group_by_continent()"
   ]
  },
  {
   "cell_type": "markdown",
   "metadata": {
    "deletable": false,
    "editable": false,
    "nbgrader": {
     "checksum": "61562b9b667bd5efbcec0dcd7becbfaa",
     "grade": false,
     "grade_id": "cell-998b62d4f390ef15",
     "locked": true,
     "schema_version": 1,
     "solution": false
    }
   },
   "source": [
    "### Optional\n",
    "\n",
    "Puedes ejecutar la función `plot_optional()` para ver un ejemplo de visualización."
   ]
  },
  {
   "cell_type": "code",
   "execution_count": null,
   "metadata": {
    "deletable": false,
    "editable": false,
    "nbgrader": {
     "checksum": "479786c97cb5f34d07231c6d7c602a47",
     "grade": false,
     "grade_id": "cell-741fd55ea57cd40a",
     "locked": true,
     "schema_version": 1,
     "solution": false
    }
   },
   "outputs": [],
   "source": [
    "def plot_optional():\n",
    "    import matplotlib as plt\n",
    "    %matplotlib inline\n",
    "    top15 = df  # df debe ser el nombre del DataFrame que obtuviste en la pregunta 1\n",
    "    ax = top15.plot(x='Rank', y='% Renewable', kind='scatter',\n",
    "                    c=['#e41a1c', '#377eb8', '#e41a1c', '#4daf4a',\n",
    "                       '#4daf4a', '#377eb8', '#4daf4a', '#e41a1c',\n",
    "                       '#4daf4a', '#e41a1c', '#4daf4a', '#4daf4a',\n",
    "                       '#e41a1c', '#dede00', '#ff7f00'],\n",
    "                    xticks=range(1, 16), s=6 * top15['2014'] / 10 ** 10,\n",
    "                    alpha=.75, figsize=[16, 6])\n",
    "\n",
    "    for i, txt in enumerate(top15.index):\n",
    "        ax.annotate(txt, [top15['Rank'][i], top15['% Renewable'][i]], ha='center')\n",
    "\n",
    "    print(\n",
    "        \"\"\"Este es un ejemplo de visualización realizado para ayudarte a comprender los datos. \\nEste es un gráfico de burbujas que muestra el % Renewable vs. Rank. \\nEl tamaño de la burbuja corresponde al GDP (PIB) de 2014 de los países, y el color corresponde al continente.\"\"\")\n",
    "\n",
    "\n",
    "plot_optional()"
   ]
  }
 ],
 "metadata": {
  "anaconda-cloud": {},
  "coursera": {
   "schema_names": [
    "mooc_adswpy_1_v2_assignment3"
   ]
  },
  "kernelspec": {
   "display_name": "Python 3 (ipykernel)",
   "language": "python",
   "name": "python3"
  },
  "language_info": {
   "codemirror_mode": {
    "name": "ipython",
    "version": 3
   },
   "file_extension": ".py",
   "mimetype": "text/x-python",
   "name": "python",
   "nbconvert_exporter": "python",
   "pygments_lexer": "ipython3",
   "version": "3.12.0"
  }
 },
 "nbformat": 4,
 "nbformat_minor": 1
}
